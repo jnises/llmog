{
  "cells": [
    {
      "cell_type": "code",
      "source": [
        "!pip install --upgrade requests datasets"
      ],
      "metadata": {
        "id": "16UIeSFGT4bt"
      },
      "id": "16UIeSFGT4bt",
      "execution_count": null,
      "outputs": []
    },
    {
      "cell_type": "code",
      "source": [
        "import os\n",
        "is_colab = any('COLAB_' in k for k in os.environ.keys())\n",
        "\n",
        "if is_colab:\n",
        "  from google.colab import userdata\n",
        "  HF_TOKEN = userdata.get('HF_TOKEN')\n",
        "  OPENROUTER_API_KEY = userdata.get(\"OPENROUTER_API_KEY\")\n",
        "else:\n",
        "  !pip install dotenv\n",
        "  from dotenv import load_dotenv\n",
        "  load_dotenv()\n",
        "  HF_TOKEN = os.environ[\"HF_TOKEN\"]\n",
        "  OPENROUTER_API_KEY = os.environ[\"OPENROUTER_API_KEY\"]\n"
      ],
      "metadata": {
        "id": "IBzAKyndS30Y"
      },
      "id": "IBzAKyndS30Y",
      "execution_count": null,
      "outputs": []
    },
    {
      "cell_type": "code",
      "execution_count": null,
      "id": "e8bcdcd2",
      "metadata": {
        "id": "e8bcdcd2"
      },
      "outputs": [],
      "source": [
        "from pathlib import Path\n",
        "import os\n",
        "from collections import deque\n",
        "import json\n",
        "import re\n",
        "import datasets\n",
        "from concurrent.futures import ThreadPoolExecutor\n",
        "from typing import Optional, Any, Dict\n",
        "import random\n",
        "\n",
        "logfiles_path = Path(\"logfiles\")\n",
        "non_logfiles_path = Path(\"non_logfiles\")"
      ]
    },
    {
      "cell_type": "code",
      "execution_count": null,
      "id": "5b27066f",
      "metadata": {
        "id": "5b27066f"
      },
      "outputs": [],
      "source": [
        "from typing import List, Dict\n",
        "import requests\n",
        "\n",
        "CHAT_MODEL = \"google/gemini-2.0-flash-001\"\n",
        "\n",
        "\n",
        "def chat(messages: List[Dict[str, str]]) -> str:\n",
        "    response = requests.post(\n",
        "        url=\"https://openrouter.ai/api/v1/chat/completions\",\n",
        "        headers={\n",
        "            \"Authorization\": f\"Bearer {OPENROUTER_API_KEY}\",\n",
        "        },\n",
        "        data=json.dumps(\n",
        "            {\n",
        "                \"model\": CHAT_MODEL,\n",
        "                \"messages\": messages,\n",
        "            }\n",
        "        ),\n",
        "    )\n",
        "    response.raise_for_status()\n",
        "    message = response.json()[\"choices\"][0][\"message\"]\n",
        "    assert message[\"role\"] == \"assistant\"\n",
        "    reply = message[\"content\"]\n",
        "    return reply\n",
        "\n",
        "\n",
        "def find_next_unused_file(root: Path, suffix: str) -> Path:\n",
        "    \"\"\"of the form [number][suffix]\"\"\"\n",
        "    assert root.exists()\n",
        "    # TODO: binary search\n",
        "    for i in range(0, 1000000):\n",
        "        outpath = root / f\"{i}{suffix}\"\n",
        "        if not outpath.exists():\n",
        "            return outpath\n",
        "    assert False\n",
        "\n",
        "_start_markdown_re = re.compile(r\"^```\\w*\\n\")\n",
        "_end_markdown_re = re.compile(r\"```\\n*$\")\n",
        "def strip_markdown_framing(s: str) -> str:\n",
        "    start = _start_markdown_re.search(s)\n",
        "    end = _end_markdown_re.search(s)\n",
        "    if start and end:\n",
        "        return s[start.end() : end.start()]\n",
        "    return s"
      ]
    },
    {
      "cell_type": "code",
      "execution_count": null,
      "id": "cbb16d13",
      "metadata": {
        "id": "cbb16d13"
      },
      "outputs": [],
      "source": [
        "# synthesize a bunch of log files. put them in `logfiles`\n",
        "\n",
        "from concurrent.futures import ThreadPoolExecutor\n",
        "from typing import Optional\n",
        "\n",
        "NUM_FILES_TO_GENERATE = 100\n",
        "\n",
        "# set max_workers to some high value to generate data faster\n",
        "with ThreadPoolExecutor() as executor:\n",
        "\n",
        "    def gen_log() -> Optional[str]:\n",
        "        for _ in range(4):\n",
        "            content = chat(\n",
        "                [\n",
        "                    {\n",
        "                        \"role\": \"user\",\n",
        "                        \"content\": \"\"\"Generate a plausible log file, as would be emitted from some application or service.\n",
        "It should contain both uninteresting and interesting lines, including interesting lines that aren't clearly marked as that.\n",
        "Include poorly formatted log lines.\n",
        "Pick a random timestamp format, or don't include one at all. But use the same format for the entire file.\n",
        "Reply ONLY with the log lines. No explanations, markdown quotes or any other form of framing.\n",
        "            \"\"\",\n",
        "                    }\n",
        "                ]\n",
        "            )\n",
        "            content = strip_markdown_framing(content)\n",
        "            if _start_markdown_re.match(content) or _end_markdown_re.match(content):\n",
        "                print(\"undesired framing in llm response. retrying\")\n",
        "            else:\n",
        "                return content\n",
        "        print(\"model is stubborn. giving up\")\n",
        "        return None\n",
        "\n",
        "    logs = executor.map(lambda _: gen_log(), range(NUM_FILES_TO_GENERATE))\n",
        "    for log in logs:\n",
        "        if log is None:\n",
        "            continue\n",
        "        logfiles_path.mkdir(exist_ok=True, parents=True)\n",
        "        outpath = find_next_unused_file(logfiles_path, \".log\")\n",
        "        with outpath.open(\"w\") as f:\n",
        "            f.write(log)"
      ]
    },
    {
      "cell_type": "code",
      "execution_count": null,
      "id": "fa7cf4f0",
      "metadata": {
        "id": "fa7cf4f0"
      },
      "outputs": [],
      "source": [
        "# synthesize a bunch of non-log files. put them in `non_logfiles` but with .txt extension\n",
        "\n",
        "\n",
        "NUM_NON_LOG_FILES = 50\n",
        "\n",
        "# set max_workers to some high value to generate data faster\n",
        "with ThreadPoolExecutor(max_workers=50) as executor:\n",
        "\n",
        "    def gen_non_log() -> Optional[str]:\n",
        "        for _ in range(4):\n",
        "            content = chat(\n",
        "                [\n",
        "                    {\n",
        "                        \"role\": \"user\",\n",
        "                        \"content\": \"\"\"Generate random text content that does NOT resemble a log file.\n",
        "It could be a snippet of an article, code, configuration, documentation, or other non-log content.\n",
        "Reply ONLY with the text content. No explanations, markdown quotes or any other form of framing.\n",
        "Do NOT start or end with ```.\n",
        "            \"\"\",\n",
        "                    }\n",
        "                ]\n",
        "            )\n",
        "            # the model likes to add markdown code framing even though we tell it not to. so we strip that out\n",
        "            content = strip_markdown_framing(content)\n",
        "            return content\n",
        "        print(\"model is stubborn. giving up\")\n",
        "        return None\n",
        "\n",
        "    non_logs = executor.map(lambda _: gen_non_log(), range(NUM_NON_LOG_FILES))\n",
        "    for non_log in non_logs:\n",
        "        if non_log is None:\n",
        "            continue\n",
        "        non_logfiles_path.mkdir(exist_ok=True, parents=True)\n",
        "        outpath = find_next_unused_file(non_logfiles_path, \".txt\")\n",
        "        with outpath.open(\"w\") as f:\n",
        "            f.write(non_log)"
      ]
    },
    {
      "cell_type": "code",
      "execution_count": null,
      "id": "c475d326",
      "metadata": {
        "id": "c475d326"
      },
      "outputs": [],
      "source": [
        "def iterate_logs():\n",
        "    for logpath in logfiles_path.glob(\"*.log\"):\n",
        "        with logpath.open(\"rt\") as f:\n",
        "            yield {\"logs\": f.read()}\n",
        "\n",
        "\n",
        "hf_raw_logs_dataset = datasets.Dataset.from_generator(iterate_logs)"
      ]
    },
    {
      "cell_type": "code",
      "execution_count": null,
      "id": "b3b9a44e",
      "metadata": {
        "id": "b3b9a44e"
      },
      "outputs": [],
      "source": [
        "hf_raw_logs_dataset.push_to_hub(\"jnises/llmog-raw-logs\", token=HF_TOKEN)"
      ]
    },
    {
      "cell_type": "code",
      "execution_count": null,
      "id": "86d65325",
      "metadata": {
        "id": "86d65325"
      },
      "outputs": [],
      "source": [
        "import datasets\n",
        "\n",
        "\n",
        "def iterate_non_logs():\n",
        "    for path in non_logfiles_path.glob(\"*.txt\"):\n",
        "        with path.open(\"rt\") as f:\n",
        "            yield {\"non_log\": f.read()}\n",
        "\n",
        "\n",
        "hf_raw_non_logs_dataset = datasets.Dataset.from_generator(iterate_non_logs)"
      ]
    },
    {
      "cell_type": "code",
      "execution_count": null,
      "id": "340c6b79",
      "metadata": {
        "id": "340c6b79"
      },
      "outputs": [],
      "source": [
        "hf_raw_non_logs_dataset.push_to_hub(\"jnises/llmog-raw-non-logs\", token=HF_TOKEN)"
      ]
    },
    {
      "cell_type": "code",
      "execution_count": null,
      "id": "09c2e68f",
      "metadata": {
        "id": "09c2e68f"
      },
      "outputs": [],
      "source": [
        "# ask the model if the generated files look good.\n",
        "# it isn't very accurate or useful\n",
        "\n",
        "if False:\n",
        "    format_check = []\n",
        "    for p in logfiles_path.glob(\"*.log\"):\n",
        "        logfile = p.read_text()\n",
        "\n",
        "        def fun(msg: str):\n",
        "            lmsg = msg.lower()\n",
        "            if \"yes\" in lmsg:\n",
        "                return True\n",
        "            if \"no\" in lmsg:\n",
        "                return False\n",
        "            raise Exception(f\"bad reply from model: {msg}\")\n",
        "\n",
        "        for retry in range(100000):\n",
        "            try:\n",
        "                response = chat(\n",
        "                    [\n",
        "                        {\n",
        "                            \"role\": \"user\",\n",
        "                            \"content\": f\"Does the following text look like a raw log file? It mustn't contain any additional framing, only the actual log lines. Answer ONLY with yes or no:\\n{logfile}\",\n",
        "                        }\n",
        "                    ]\n",
        "                )\n",
        "                good = fun(response)\n",
        "                break\n",
        "            except Exception as e:\n",
        "                if retry < 10:\n",
        "                    print(f\"{e}. retrying..\")\n",
        "                else:\n",
        "                    raise\n",
        "        format_check.append((p, good))\n",
        "        print(f\"{p}: {'good' if good else 'bad'}\")\n"
      ]
    },
    {
      "cell_type": "code",
      "source": [
        "log_dataset = datasets.load_dataset('jnises/llmog-raw-logs', token=HF_TOKEN, split='train')['logs']\n",
        "non_log_dataset = datasets.load_dataset('jnises/llmog-raw-non-logs', token=HF_TOKEN, split='train')['non_log']\n"
      ],
      "metadata": {
        "id": "dEpcv1w-zHaL"
      },
      "id": "dEpcv1w-zHaL",
      "execution_count": null,
      "outputs": []
    },
    {
      "cell_type": "code",
      "execution_count": null,
      "id": "68a66a2f",
      "metadata": {
        "id": "68a66a2f"
      },
      "outputs": [],
      "source": [
        "# synthesize conversations where the model rates each line in the log files\n",
        "\n",
        "# separate system prompt for the trainer as we know it will only be used for actual log files\n",
        "trainer_system_prompt = {\n",
        "    \"role\": \"system\",\n",
        "    \"content\": \"\"\"You are a developer log analyzer.\n",
        "Given a sequence of log lines. Rate the last line by how interesting you think it is for diagnosing an issue with the system.\n",
        "Rate only the last line. Use the prior lines only for context.\n",
        "If a prior line looks unrelated to the last one, disregard it.\n",
        "Output EXACTLY in this format:\n",
        "```\n",
        "Very brief single-sentence analysis on a single line\n",
        "SCORE: 0-100\n",
        "```\n",
        "\n",
        "Do NOT include any code examples, snippets, or additional explanations.\n",
        "Keep responses strictly limited to the analysis and score.\n",
        "Do NOT include any additional framing such as ```.\n",
        "Do NOT start the analysis with \"The last line\" or similar redundant information.\n",
        "\n",
        "Score guide:\n",
        "Low (0-30): Routine/minor info\n",
        "Medium (31-70): Noteworthy/important\n",
        "High (71-100): Critical/security issues\n",
        "\"\"\",\n",
        "}\n",
        "\n",
        "system_prompt = {\n",
        "    \"role\": \"system\",\n",
        "    \"content\": \"\"\"You are a developer log analyzer.\n",
        "Given a sequence of lines of text. Determine if it looks like a log file or not.\n",
        "If it looks like a log rate the last line by how interesting you think it is for diagnosing an issue with the system.\n",
        "Rate only the last line. Use the prior lines only for context.\n",
        "If a prior line looks unrelated to the last one, disregard it.\n",
        "Output EXACTLY in this format:\n",
        "```\n",
        "Very brief single-sentence analysis on a single line\n",
        "SCORE: 0-100\n",
        "```\n",
        "\n",
        "If it doesn't look like a log file just respond with:\n",
        "```\n",
        "Not a log\n",
        "SCORE: 0\n",
        "```\n",
        "\n",
        "Do NOT include any code examples, snippets, or additional explanations.\n",
        "Keep responses strictly limited to the analysis and score.\n",
        "Do NOT include any additional framing such as ```.\n",
        "Do NOT start the analysis with \"The last line\" or similar redundant information.\n",
        "\n",
        "Score guide:\n",
        "Low (0-30): Routine/minor info\n",
        "Medium (31-70): Noteworthy/important\n",
        "High (71-100): Critical/security issues\n",
        "\"\"\",\n",
        "}\n",
        "\n",
        "formatre = re.compile(r\"^(?:```\\n)?(?P<response>.*\\nSCORE: (?:100|\\d{1,2})\\n?)(?:\\n?```\\n?)?$\")\n",
        "\n",
        "\n",
        "def iterate_line_windows(files):\n",
        "    for file in files:\n",
        "        history = deque(maxlen=10)\n",
        "        for line in file.splitlines():\n",
        "            line = line.rstrip()\n",
        "            history.append(line)\n",
        "            num_lines = random.randint(1, len(history))\n",
        "            selected_lines = list(history)[-num_lines:]\n",
        "            lines = \"\".join((f\"{l}\\n\" for l in selected_lines))\n",
        "            yield lines\n",
        "\n",
        "\n",
        "def generate_conversations():\n",
        "    # set max_workers to some high value to generate data faster\n",
        "    with ThreadPoolExecutor(max_workers=100) as executor:\n",
        "\n",
        "        def f(lines) -> Optional[Dict[str, Any]]:\n",
        "            query = {\n",
        "                \"role\": \"user\",\n",
        "                \"content\": lines,\n",
        "            }\n",
        "            for _ in range(4):\n",
        "                try:\n",
        "                    reply = chat(\n",
        "                        [\n",
        "                            trainer_system_prompt,\n",
        "                            query,\n",
        "                        ]\n",
        "                    )\n",
        "                except (\n",
        "                    ConnectionResetError,\n",
        "                    requests.exceptions.RequestException,\n",
        "                ) as e:\n",
        "                    # TODO: exponential backoff\n",
        "                    print(f\"exception communicating with model: {e}\")\n",
        "                    continue\n",
        "                # TODO: handle and strip out any ``` framing as the model sometimes produces that even though we tell it not to\n",
        "                if m := formatre.match(reply):\n",
        "                    reply = m.group('response')\n",
        "                    # if reply == 'Not a log\\nSCORE: 0\\n':\n",
        "                    #     # we know this is a log. so just tell the model to try again\n",
        "                    #     continue\n",
        "                else:\n",
        "                    print(f\"bad reply from model: {reply}\")\n",
        "                    continue\n",
        "                break\n",
        "            else:\n",
        "                print(\"the model is obstinate, ignoring this line\")\n",
        "                return None\n",
        "            assert isinstance(system_prompt[\"content\"], str)\n",
        "            assert isinstance(lines, str)\n",
        "            assert isinstance(reply, str)\n",
        "            return {\n",
        "                \"conversations\": [\n",
        "                    system_prompt,\n",
        "                    query,\n",
        "                    {\"role\": \"assistant\", \"content\": reply},\n",
        "                ]\n",
        "            }\n",
        "\n",
        "        for non_log in iterate_line_windows(non_log_dataset):\n",
        "            assert isinstance(non_log, str)\n",
        "            yield {\n",
        "                'conversations': [\n",
        "                    system_prompt,\n",
        "                    {'role': 'user', 'content': non_log},\n",
        "                    {'role': 'assistant', 'content': 'Not a log\\nSCORE: 0\\n'}\n",
        "                ]\n",
        "            }\n",
        "        results_iterator = executor.map(f, iterate_line_windows(log_dataset))\n",
        "        for result in results_iterator:\n",
        "            if result is not None:\n",
        "                yield result\n",
        "\n",
        "\n",
        "hf_dataset = datasets.Dataset.from_generator(generate_conversations)"
      ]
    },
    {
      "cell_type": "code",
      "source": [
        "hf_dataset"
      ],
      "metadata": {
        "id": "mZUoUV1hhZz3"
      },
      "id": "mZUoUV1hhZz3",
      "execution_count": null,
      "outputs": []
    },
    {
      "cell_type": "code",
      "execution_count": null,
      "id": "def7161f",
      "metadata": {
        "id": "def7161f"
      },
      "outputs": [],
      "source": [
        "hf_dataset = hf_dataset.train_test_split(test_size=0.1, seed=7834761)"
      ]
    },
    {
      "cell_type": "code",
      "execution_count": null,
      "id": "97c779b1",
      "metadata": {
        "id": "97c779b1"
      },
      "outputs": [],
      "source": [
        "hf_dataset.push_to_hub(\"jnises/llmog-conversations\", token=HF_TOKEN)"
      ]
    },
    {
      "cell_type": "code",
      "source": [],
      "metadata": {
        "id": "4O6r8KqGxLyZ"
      },
      "id": "4O6r8KqGxLyZ",
      "execution_count": null,
      "outputs": []
    }
  ],
  "metadata": {
    "kernelspec": {
      "display_name": "Python 3",
      "name": "python3"
    },
    "language_info": {
      "codemirror_mode": {
        "name": "ipython",
        "version": 3
      },
      "file_extension": ".py",
      "mimetype": "text/x-python",
      "name": "python",
      "nbconvert_exporter": "python",
      "pygments_lexer": "ipython3",
      "version": "3.13.3"
    },
    "colab": {
      "provenance": []
    }
  },
  "nbformat": 4,
  "nbformat_minor": 5
}